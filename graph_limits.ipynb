{
 "cells": [
  {
   "cell_type": "markdown",
   "id": "61c728e3-b506-4437-b600-f98637f95ac9",
   "metadata": {},
   "source": [
    "# Visualizing Limits with Graphs\n",
    "\n",
    "## Objectives:\n",
    "- The primary goal of this assignment is to provide an opportunity for students to use Python and Matplotlib to create graphs of functions and analyze their behavior to determine limits. Should you choose to complete this assignment, you will gain an understanding of how to visualize limits and identify when they exist or do not exist.\n",
    "- A secondary objective is to give students an opportunity to learn how to use AI to help create code - in particular, to generate different functions in python.\n"
   ]
  },
  {
   "cell_type": "markdown",
   "id": "bc4f45f0-da99-40cb-bb48-4b2616fde650",
   "metadata": {},
   "source": [
    "## Example\n",
    "We will analyze the function $\\displaystyle f(x) = \\frac{\\sin(x)}{x}$\n",
    "\n",
    "And determine whether the limit as x approaches 0 exists or not.  We wish to find: $\\displaystyle \\lim_{{x \\to 0}} f(x)$\n"
   ]
  },
  {
   "cell_type": "markdown",
   "id": "7fefdc79-a543-4596-8671-d700c51d7dd7",
   "metadata": {},
   "source": [
    "### Graphing and Analyzing the Function\n",
    "In order to determine whether the limit exits, we will:\n",
    "1. Plot the graph of $\\displaystyle f(x)$ on the interval $[-10, 10]$ (excluding $x = 0$).\n",
    "2. Analyze the behavior of $\\displaystyle f(x)$ as $x$ approaches 0 from the RIGHT and as $x$ approaches 0 from the LEFT.\n",
    "3. Determine whether $\\displaystyle \\lim_{{x \\to 0}} f(x)$ exists.\n",
    "4. Discuss why the limit does not exist IF applicable."
   ]
  },
  {
   "cell_type": "code",
   "execution_count": null,
   "id": "c0a755a6-ef0d-4516-837f-370cd3b46493",
   "metadata": {},
   "outputs": [],
   "source": [
    "# import the libraries\n",
    "import numpy as np\n",
    "import sympy as sym\n",
    "import matplotlib.pyplot as plt\n",
    "\n",
    "# better image resolution\n",
    "import matplotlib_inline.backend_inline\n",
    "matplotlib_inline.backend_inline.set_matplotlib_formats('svg')\n",
    "\n",
    "# Define the function\n",
    "def f(x):\n",
    "    return np.where(x != 0, np.sin(x)/x, 1)\n",
    "\n",
    "# Generate x values\n",
    "x = np.linspace(-10, 10, 1000)\n",
    "x = x[x != 0]  # Exclude x = 0 to avoid division by zero\n",
    "\n",
    "# Calculate y values\n",
    "y = f(x)\n",
    "\n",
    "# Plot the function\n",
    "plt.figure(figsize=(8, 6))\n",
    "plt.plot(x, y, label='$f(x) = \\sin(x)/x$', color='blue')\n",
    "plt.axhline(y=0, color='black', linewidth=0.5, linestyle='--')\n",
    "plt.axvline(x=0, color='black', linewidth=0.5, linestyle='--')\n",
    "plt.title(\"Graph of $f(x) = \\sin(x)/x$\")\n",
    "plt.xlabel(\"x\")\n",
    "plt.ylabel(\"f(x)\")\n",
    "plt.legend()\n",
    "plt.grid(True)\n",
    "plt.show()"
   ]
  },
  {
   "cell_type": "markdown",
   "id": "bc767448-7343-49fe-b3dd-fd2fe3462ba6",
   "metadata": {},
   "source": [
    "<h2 class=\"alert alert-block alert-success\">Question <b>#1</b></h2>"
   ]
  },
  {
   "cell_type": "markdown",
   "id": "b1ef21c0-2d49-43b1-be49-e01f5e4101d3",
   "metadata": {},
   "source": [
    "Using the graph created above, please do the following:\n",
    "1) Analyze the behavior of $\\displaystyle f(x)$ as $ x \\to 0^{+} $ and $\\displaystyle  x \\to 0^{-} $\n",
    "2) Determine whether the $\\displaystyle  \\lim\\limits_{x \\to 0} f(x) $ exists or not. \n",
    "3) Explain your answer - how do you know if the limit exists or not?\n"
   ]
  },
  {
   "cell_type": "markdown",
   "id": "616d7e5b-3b96-4270-9c61-9a7871bb7876",
   "metadata": {},
   "source": [
    "# Now You Try!"
   ]
  },
  {
   "cell_type": "markdown",
   "id": "d3632139-ddec-45de-9c54-e51de844b9dc",
   "metadata": {},
   "source": [
    "#### Directions\n",
    "\n",
    "For the rest of the questions below, we would like you to practice creating graphs to evaluate limits. While this process doesn't always find the **exact** limit, this can help us determine whether a limit is likely to exist or not and if the limit exists we can approximate it.\n",
    "In order to answer the questions below, you may need to use AI (like ChatGPT or Claude or another such application) to help you figure out how to **write different functions in python**.  We hope this will be valuable experience to learn and practice prompt engineering and problem solving.\n",
    " \n",
    "*Please note that we expect you to **copy** the code above and alter it - we don't expect you to create the code from scratch!*\n",
    "\n",
    "For each of the following functions:\n",
    "1. Plot the graph of the function on a specified interval.\n",
    "2. Determine the RIGHT and LEFT hand limits\n",
    "3. Discuss whether the limit exists\n",
    "\n",
    "Please use the directions above for each of the functions below"
   ]
  },
  {
   "cell_type": "markdown",
   "id": "bf8a2627-246a-4e09-9a4e-bf1bfc3c36bb",
   "metadata": {},
   "source": [
    "<h2 class=\"alert alert-block alert-success\">Question <b>#2</b></h2>"
   ]
  },
  {
   "cell_type": "markdown",
   "id": "7d125c85-b0c5-44e0-b341-21c08e7e7b37",
   "metadata": {},
   "source": [
    "Let $ \\displaystyle g(x) = \\frac{1}{x}$\n",
    "\n",
    "1. Plot $\\displaystyle g(x)$ on the interval $[-10, 10]$, excluding $\\displaystyle x = 0$.\n",
    "2. Determine the right and left hand limits at $\\displaystyle x = 0$\n",
    "3. Analyze the limit as x approaches 0:    $\\displaystyle \\lim_{{x \\to 0}} g(x)$  If the limit exists, please explain how you find it and state the answer.  If it does not exist, please explain how you know."
   ]
  },
  {
   "cell_type": "markdown",
   "id": "563727a0-8c06-4651-8542-30cf3e1bef6a",
   "metadata": {},
   "source": [
    "<h2 class=\"alert alert-block alert-success\">Question <b>#3</b></h2>"
   ]
  },
  {
   "cell_type": "markdown",
   "id": "8d9cdb2c-5dff-4d00-9aa9-c448afeccc34",
   "metadata": {},
   "source": [
    "Let $\\displaystyle h(x) = |x - 2|$\n",
    "\n",
    "1. Plot $\\displaystyle h(x)$ on the interval $[0, 4]$.\n",
    "2. Determine the right and left hand limits at $ \\displaystyle x = 2 $\n",
    "3. Analyze $\\displaystyle \\lim_{{x \\to 2}} h(x)$.  If the limit exists, please explain how you find it and state the answer.  If it does not exist, please explain how you know."
   ]
  },
  {
   "cell_type": "markdown",
   "id": "39d789d6-365d-4abd-9f45-a668c6db9fcc",
   "metadata": {},
   "source": [
    "<h2 class=\"alert alert-block alert-success\">Question <b>#4</b></h2>"
   ]
  },
  {
   "cell_type": "markdown",
   "id": "de18e241-9ddf-4f51-a769-a7ffd2c7eb90",
   "metadata": {},
   "source": [
    "Let \n",
    "$ \\displaystyle k(x) = \\begin{cases} \n",
    "2x & x < 1 \\\\\n",
    "3 - x & x \\geq 1 \n",
    "\\end{cases} $ \n",
    "\n",
    "1. Plot $\\displaystyle k(x)$ on the interval $[0, 3]$.\n",
    "2. Determine the right and left hand limits at $ \\displaystyle x = 1 $\n",
    "3. Analyze $\\displaystyle \\lim_{{x \\to 1}} k(x)$.  If the limit exists, please explain how you find it and state the answer.  If it does not exist, please explain how you know."
   ]
  },
  {
   "cell_type": "code",
   "execution_count": null,
   "id": "37436ec6-2907-4742-a718-b5713b0e49f5",
   "metadata": {},
   "outputs": [],
   "source": []
  }
 ],
 "metadata": {
  "kernelspec": {
   "display_name": "Python 3 (ipykernel)",
   "language": "python",
   "name": "python3"
  },
  "language_info": {
   "codemirror_mode": {
    "name": "ipython",
    "version": 3
   },
   "file_extension": ".py",
   "mimetype": "text/x-python",
   "name": "python",
   "nbconvert_exporter": "python",
   "pygments_lexer": "ipython3",
   "version": "3.10.11"
  }
 },
 "nbformat": 4,
 "nbformat_minor": 5
}
