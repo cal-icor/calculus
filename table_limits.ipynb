{
 "cells": [
  {
   "cell_type": "markdown",
   "id": "9fee8f2f-9813-4ca2-9a41-ac808acd1674",
   "metadata": {},
   "source": [
    "### Assignment: Determining Limits Using a Table of Values\n",
    "\n",
    "#### Objective:\n",
    "The goal of this assignment is to teach students how to use Python and Jupyter Notebook to create a table of values to evaluate the behavior of a function near a given point and determine its limit.\n"
   ]
  },
  {
   "cell_type": "markdown",
   "id": "1d4d9393-d11b-458c-a2b8-87966b24d95e",
   "metadata": {},
   "source": [
    "Let's say we would like to find: $$\\lim_{{x \\to 2}} \\frac{x^2 - 4}{x - 2}$$\n",
    "\n",
    "In the cell below, there is code that:\n",
    "1. defines f(x) as the function $f(x)=(x^2-4)/(x-2)$\n",
    "2. creates 2 arrays of x-values, one with x-values getting closer to 2 *from the left side* and the other with x-values approaching 2 *from the right side*\n",
    "3. finds the corresponding y-values for the x-values created\n",
    "4. displays 2 tables representing the values of y as x approaches 2 *from the left* AND a table that shows the values of y as x approaches 2 *from the right*\n",
    "\n",
    "Please recall that in order for a limit to exist at a value of x, the y-values must approach the same value from the right AND the left."
   ]
  },
  {
   "cell_type": "code",
   "execution_count": 21,
   "id": "166fba33-8748-4a0e-80a9-9a031c217776",
   "metadata": {},
   "outputs": [
    {
     "name": "stdout",
     "output_type": "stream",
     "text": [
      "Left-hand limit:\n",
      "x (left)\t f(x)\n",
      "1.800\t 3.800\n",
      "1.840\t 3.840\n",
      "1.880\t 3.880\n",
      "1.920\t 3.920\n",
      "1.960\t 3.960\n",
      "\n",
      "Right-hand limit:\n",
      "x (right)\t f(x)\n",
      "2.001\t 4.001\n",
      "2.051\t 4.051\n",
      "2.101\t 4.100\n",
      "2.150\t 4.150\n",
      "2.200\t 4.200\n"
     ]
    }
   ],
   "source": [
    "import numpy as np\n",
    "\n",
    "# Define a function\n",
    "def f(x):\n",
    "    return (x**2 - 4) / (x - 2)  \n",
    "\n",
    "#create and array of x values that approach x=2 from above (right side of 2) and below (left side of) 2\n",
    "x_values_left = np.linspace(1.8, 2, 5, endpoint=False)  # Values approaching 2 from the left, BUT NOT AT 2, since f(x) is UNdefined at x=2\n",
    "x_values_right = np.linspace(2.001, 2.2, 5)            # Values approaching 2 from the right\n",
    "\n",
    "#create and array by evaluating f(x) at the corresponding array of x values created\n",
    "\n",
    "y_values_left = [f(x) for x in x_values_left]\n",
    "y_values_right = [f(x) for x in x_values_right]\n",
    "\n",
    "#display the table of values with x-values in one column and the corresponding y-values in the second volumn\n",
    "#table of values from the left side of 2\n",
    "\n",
    "print(\"Left-hand limit:\")\n",
    "print(\"x (left)\\t f(x)\")\n",
    "for x, y in zip(x_values_left, y_values_left):\n",
    "    print(f\"{x:.3f}\\t {y:.3f}\")\n",
    "\n",
    "#table of y-values as x approaches 2 from the right side\n",
    "print(\"\\nRight-hand limit:\")\n",
    "print(\"x (right)\\t f(x)\")\n",
    "for x, y in zip(x_values_right, y_values_right):\n",
    "    print(f\"{x:.3f}\\t {y:.3f}\")"
   ]
  },
  {
   "cell_type": "markdown",
   "id": "b0a8742d-8fb8-45cb-859d-8aca28d1238e",
   "metadata": {},
   "source": [
    "# Question #1"
   ]
  },
  {
   "cell_type": "markdown",
   "id": "3cedb03c-516f-4045-91d5-e6974184d5ef",
   "metadata": {},
   "source": [
    "Looking at the output from the previous box, answer the following questions.  For:\n",
    "    $$\\lim_{{x \\to 2}} \\frac{x^2 - 4}{x - 2}$$\n",
    "    \n",
    "    a) Does the limit exist?\n",
    "    \n",
    "    b) If the limit exists, what is it and how can you tell?\n",
    "    \n",
    "    c) If the limit does not exist, how can you tell?\n",
    "\n",
    "Please answer this question by either typing in THIS cell or by creating another cell AFTER this one."
   ]
  },
  {
   "cell_type": "markdown",
   "id": "ba45e39e-2453-42f5-948d-b5c2b49852ee",
   "metadata": {},
   "source": [
    "# Now You Try!"
   ]
  },
  {
   "cell_type": "markdown",
   "id": "8ea9465f-4625-48a5-8f4f-09432f1f9f92",
   "metadata": {},
   "source": [
    "# Question #2"
   ]
  },
  {
   "cell_type": "markdown",
   "id": "8843980a-b046-4cdd-a98f-5a45e979b979",
   "metadata": {},
   "source": [
    "Create 2 tables to evaluate the following limit:\n",
    "\n",
    "Let $$ g(x) = (x^3-8)/(x-2)$$  \n",
    "\n",
    "Find $$\\lim_{{x \\to 2}} g(x)$$\n",
    "\n",
    "Please write your code in the following cell, make sure to display your tables, state your answer (if one exists), and finally explain your reasoning on how you get to your final answer (a sentence or two).  When you write and explain your answer, you will need to create an additional cell."
   ]
  },
  {
   "cell_type": "markdown",
   "id": "4a0667dc-b3b6-4624-b37b-aacd9f698f9d",
   "metadata": {},
   "source": [
    "# Question #3"
   ]
  },
  {
   "cell_type": "markdown",
   "id": "8be66cec-deaa-400d-9ca5-a4d3cc8d8ef7",
   "metadata": {},
   "source": [
    "Create 2 tables to evaluate the following limit:\n",
    "\n",
    "Let $$ h(x) = \\\\left| x - 5 \\\\right|/ (x - 5) $$\n",
    "\n",
    "$$\\lim_{{x \\to 5}} abs(x - 5) / (x - 5)$$\n",
    "\n",
    "Please write your code in the following cell, make sure to display your tables, state your answer (if one exists), and finally explain your reasoning on how you get to your final answer (a sentence or two).  When you write and explain your answer, you will need to create an additional cell."
   ]
  },
  {
   "cell_type": "code",
   "execution_count": null,
   "id": "405dffdb-b70c-4bdc-ac68-8c1b5ff72580",
   "metadata": {},
   "outputs": [],
   "source": []
  }
 ],
 "metadata": {
  "kernelspec": {
   "display_name": "Python 3 (ipykernel)",
   "language": "python",
   "name": "python3"
  },
  "language_info": {
   "codemirror_mode": {
    "name": "ipython",
    "version": 3
   },
   "file_extension": ".py",
   "mimetype": "text/x-python",
   "name": "python",
   "nbconvert_exporter": "python",
   "pygments_lexer": "ipython3",
   "version": "3.10.11"
  }
 },
 "nbformat": 4,
 "nbformat_minor": 5
}
