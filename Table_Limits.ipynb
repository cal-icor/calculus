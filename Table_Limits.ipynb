{
 "cells": [
  {
   "cell_type": "markdown",
   "id": "9fee8f2f-9813-4ca2-9a41-ac808acd1674",
   "metadata": {},
   "source": [
    "# Determining Limits Using a Table of Values\n",
    "\n",
    "## Objectives:\n",
    "- The goal of this assignment is to show students how to use Python and Jupyter Notebooks to create tables of values and use those tables to evaluate whether a limit exists.  We can also use these table to estimate the value of the limit, IF it exists.  \n",
    "- A secondary objective is to give students an opportunity to learn how to use AI to help create code - in particular, to generate functions in python.\n"
   ]
  },
  {
   "cell_type": "markdown",
   "id": "1d4d9393-d11b-458c-a2b8-87966b24d95e",
   "metadata": {},
   "source": [
    "## Example\n",
    "Let's say we would like to find: $ \\displaystyle\\lim_{{x \\to 2}} \\frac{x^2 - 4}{x - 2}$\n",
    "\n",
    "In the cell below, there is code that:\n",
    "1. defines f(x) as the function $\\displaystyle f(x)=\\frac{x^2-4}{x-2}$\n",
    "2. creates 2 arrays of x-values, one with x-values getting closer to 2 *from the left side* and the other with x-values approaching 2 *from the right side*\n",
    "3. finds the corresponding y-values for the x-values created\n",
    "4. displays 2 tables representing the values of y as x approaches 2 *from the left* AND a table that shows the values of y as x approaches 2 *from the right*\n",
    "\n",
    "Please recall that in order for a limit to exist at a value of x, the y-values must approach the same value from the right AND the left."
   ]
  },
  {
   "cell_type": "code",
   "execution_count": null,
   "id": "166fba33-8748-4a0e-80a9-9a031c217776",
   "metadata": {},
   "outputs": [],
   "source": [
    "import numpy as np\n",
    "\n",
    "# Define a function\n",
    "def f(x):\n",
    "    return (x**2 - 4) / (x - 2)  \n",
    "\n",
    "#create and array of x values that approach x=2 from above (right side of 2) and below (left side of) 2\n",
    "x_values_left = np.linspace(1.8, 2, 5, endpoint=False)  # Values approaching 2 from the left, BUT NOT AT 2, since f(x) is UNdefined at x=2\n",
    "x_values_right = np.linspace(2.001, 2.2, 5)            # Values approaching 2 from the right\n",
    "\n",
    "#create and array by evaluating f(x) at the corresponding array of x values created\n",
    "\n",
    "y_values_left = [f(x) for x in x_values_left]\n",
    "y_values_right = [f(x) for x in x_values_right]\n",
    "\n",
    "#display the table of values with x-values in one column and the corresponding y-values in the second volumn\n",
    "#table of values from the left side of 2\n",
    "\n",
    "print(\"Left-hand limit:\")\n",
    "print(\"x (left)\\t f(x)\")\n",
    "for x, y in zip(x_values_left, y_values_left):\n",
    "    print(f\"{x:.3f}\\t {y:.3f}\")\n",
    "\n",
    "#table of y-values as x approaches 2 from the right side\n",
    "print(\"\\nRight-hand limit:\")\n",
    "print(\"x (right)\\t f(x)\")\n",
    "for x, y in zip(x_values_right, y_values_right):\n",
    "    print(f\"{x:.3f}\\t {y:.3f}\")"
   ]
  },
  {
   "cell_type": "markdown",
   "id": "b0a8742d-8fb8-45cb-859d-8aca28d1238e",
   "metadata": {},
   "source": [
    "<h2 class=\"alert alert-block alert-success\">Question <b>#1</b></h2>"
   ]
  },
  {
   "cell_type": "markdown",
   "id": "3cedb03c-516f-4045-91d5-e6974184d5ef",
   "metadata": {},
   "source": [
    "Using the tables created above, let's evaluate the following limit:   $ \\displaystyle \\lim_{{x \\to 2}} \\frac{x^2 - 4}{x - 2}$\n",
    "    \n",
    "    a) Does the limit exist?\n",
    "    \n",
    "    b) If the limit exists, what is it and how can you tell?\n",
    "    \n",
    "    c) If the limit does not exist, how can you tell?\n",
    "\n",
    "**Please answer this question by either typing your answers in THIS cell or by creating another cell AFTER this one.  Don't forget to make it a \"Markdown\" cell!**"
   ]
  },
  {
   "cell_type": "markdown",
   "id": "ba45e39e-2453-42f5-948d-b5c2b49852ee",
   "metadata": {},
   "source": [
    "# Now You Try!"
   ]
  },
  {
   "cell_type": "markdown",
   "id": "00474f15-0432-4549-b97b-46b47f00a9b3",
   "metadata": {},
   "source": [
    "#### Directions\n",
    "For the rest of the questions below, we would like you to practice creating tables to evaluate limits.  This is really powerful!  If you are able to program functions in python and create these tables, you will be able to examine any limit numerically.  While this doesn't always find the **exact** limit, this can help us determine whether a limit is likely to exist or not and if the limit exists we can approximate it.\n",
    "In order to answer the questions below, you may need to use AI (like ChatGPT or Claude or another such application) to help you figure out how to **write different functions in python**.  We hope this will be valuable experience to learn and practice prompt engineering and problem solving.\n",
    "\n",
    "\n",
    "*Please note that we expect you to **copy** the code above and alter it - we don't expect you to create the code from scratch!*"
   ]
  },
  {
   "cell_type": "markdown",
   "id": "8ea9465f-4625-48a5-8f4f-09432f1f9f92",
   "metadata": {},
   "source": [
    "<h2 class=\"alert alert-block alert-success\">Question <b>#2</b></h2>"
   ]
  },
  {
   "cell_type": "markdown",
   "id": "8843980a-b046-4cdd-a98f-5a45e979b979",
   "metadata": {},
   "source": [
    "Create 2 tables to evaluate the following limit:\n",
    "\n",
    "Let $ \\displaystyle g(x) = \\frac{x^3-8}{x-2}$.  Find:\n",
    "$\\displaystyle \\lim_{{x \\to 2}} g(x)$\n",
    "\n",
    "Please create a cell below to write your code in.  Run your code to make sure the tables display correctly. Then create another cell to state your answers to the following questions:\n",
    "\n",
    "a) What is the right side limit?  If it doesn't exist, please state that.\n",
    "\n",
    "b)  What is the left side limit?  If it doesn't exist, please state that.\n",
    "\n",
    "c)  Does the limit exist?  Explain your reasoning on how you get to your final answer (a sentence).  \n",
    "\n",
    "**In total, you should be creating 2 cells - one with code and one Markdown cell to write your answer and explaination in!**\n",
    "\n",
    "*You will notice that I change the name of each function: f(x), g(x), etc...  This is avoid complication between the different functions being run in different parts of this assignment. As a small challenge, try to make sure the output matches the function names.* "
   ]
  },
  {
   "cell_type": "markdown",
   "id": "4a0667dc-b3b6-4624-b37b-aacd9f698f9d",
   "metadata": {},
   "source": [
    "<h2 class=\"alert alert-block alert-success\">Question <b>#3</b></h2>"
   ]
  },
  {
   "cell_type": "markdown",
   "id": "8be66cec-deaa-400d-9ca5-a4d3cc8d8ef7",
   "metadata": {},
   "source": [
    "Let $\\displaystyle  h(x) = \\frac{|x - 5|}{x - 5} $.  Create 2 tables to evaluate $\\displaystyle \\lim_{{x \\to 5}} h(x)$\n",
    "\n",
    "\n",
    "Please create a cell below to write your code in.  Run your code to make sure the tables display correctly. Then create another cell to state your answers to the following questions:\n",
    "\n",
    "a) What is the right side limit?  If it doesn't exist, please state that.\n",
    "\n",
    "b)  What is the left side limit?  If it doesn't exist, please state that.\n",
    "\n",
    "c)  Does the limit exist?  Explain your reasoning on how you get to your final answer (a sentence).  \n",
    "\n",
    "**In total, you should be creating 2 cells - one with code and one Markdown cell to write your answer and explaination in!**\n",
    "\n",
    "*You will notice that I change the name of each function: f(x), g(x), etc...  This is avoid complication between the different functions being run in different parts of this assignment. As a small challenge, try to make sure the output matches the function names.* "
   ]
  },
  {
   "cell_type": "markdown",
   "id": "5f4358d8-54e3-4db9-b28f-dd9266277c6e",
   "metadata": {},
   "source": [
    "<h2 class=\"alert alert-block alert-success\">Question <b>#4</b></h2>"
   ]
  },
  {
   "cell_type": "markdown",
   "id": "42c52d88-1c4e-493c-a69a-e992e0a15597",
   "metadata": {},
   "source": [
    "Let $\n",
    "\\displaystyle k(x) = \\frac{e^{2.5x}-e^{4.3x}}{x}\n",
    "$.  Create 2 tables to evaluate $\\displaystyle \\lim_{{x \\to 0}} k(x)$\n",
    "\n",
    "\n",
    "Please create a cell below to write your code in.  Run your code to make sure the tables display correctly. Then create another cell to state your answers to the following questions:\n",
    "\n",
    "a) What is the right side limit?  If it doesn't exist, please state that.\n",
    "\n",
    "b)  What is the left side limit?  If it doesn't exist, please state that.\n",
    "\n",
    "c)  Does the limit exist?  Explain your reasoning on how you get to your final answer (a sentence).  \n",
    "\n",
    "**In total, you should be creating 2 cells - one with code and one Markdown cell to write your answer and explaination in!**\n",
    "\n",
    "*You will notice that I change the name of each function: f(x), g(x), etc...  This is avoid complication between the different functions being run in different parts of this assignment. As a small challenge, try to make sure the output matches the function names.* "
   ]
  },
  {
   "cell_type": "markdown",
   "id": "191a22f3-5bf3-4fb4-af93-1b1bf12059a0",
   "metadata": {},
   "source": [
    "<h2 class=\"alert alert-block alert-success\">Question <b>#5</b></h2>"
   ]
  },
  {
   "cell_type": "markdown",
   "id": "3f1d295e-0ea1-41b8-bf58-ef5e790da905",
   "metadata": {},
   "source": [
    "Create 2 tables to evaluate $\\displaystyle \\lim_{{x \\to 0}} \\frac{\\sin(10x)}{x}$\n",
    "\n",
    "\n",
    "Please create a cell below to write your code in.  Run your code to make sure the tables display correctly. Then create another cell to state your answers to the following questions:\n",
    "\n",
    "a) What is the right side limit?  If it doesn't exist, please state that.\n",
    "\n",
    "b)  What is the left side limit?  If it doesn't exist, please state that.\n",
    "\n",
    "c)  Does the limit exist?  Explain your reasoning on how you get to your final answer (a sentence).  \n",
    "\n",
    "**In total, you should be creating 2 cells - one with code and one Markdown cell to write your answer and explaination in!**\n",
    "\n",
    "*You will notice that I change the name of each function: f(x), g(x), etc...  This is avoid complication between the different functions being run in different parts of this assignment. As a small challenge, try to make sure the output matches the function names.* "
   ]
  },
  {
   "cell_type": "code",
   "execution_count": null,
   "id": "18123c5e-aed6-4bdb-add6-f5a568518eb1",
   "metadata": {},
   "outputs": [],
   "source": []
  }
 ],
 "metadata": {
  "kernelspec": {
   "display_name": "Python 3 (ipykernel)",
   "language": "python",
   "name": "python3"
  },
  "language_info": {
   "codemirror_mode": {
    "name": "ipython",
    "version": 3
   },
   "file_extension": ".py",
   "mimetype": "text/x-python",
   "name": "python",
   "nbconvert_exporter": "python",
   "pygments_lexer": "ipython3",
   "version": "3.10.11"
  }
 },
 "nbformat": 4,
 "nbformat_minor": 5
}
